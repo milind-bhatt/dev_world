{
 "cells": [
  {
   "cell_type": "code",
   "execution_count": 1,
   "metadata": {},
   "outputs": [],
   "source": [
    "import numpy as np\n",
    "import matplotlib as plt\n",
    "import pandas as pd"
   ]
  },
  {
   "cell_type": "markdown",
   "metadata": {},
   "source": [
    "## Importing dataset"
   ]
  },
  {
   "cell_type": "code",
   "execution_count": 6,
   "metadata": {},
   "outputs": [],
   "source": [
    "# new variable which will contain dataset\n",
    "dataset = pd.read_csv('Data.csv')\n",
    "\n",
    "## create feature (X) and dependent variables (y) (in data.csv, country+age+salary is features, purchased is depedent variable)\n",
    "X = dataset.iloc[:, :-1].values  \n",
    "y = dataset.iloc[:, -1].values"
   ]
  },
  {
   "cell_type": "markdown",
   "metadata": {},
   "source": [
    "## Takecare of missing data\n",
    "method 1: manually delete empty data \n",
    "& \n",
    "\n",
    "method 2: replace missing values by average of all values in that column (Use of sklearn class)"
   ]
  },
  {
   "cell_type": "code",
   "execution_count": null,
   "metadata": {},
   "outputs": [],
   "source": [
    "from sklearn.impute import SimpleImputer\n",
    "\n",
    "# create instance of the class & replace all missing values in dataset with mean of the feature itself\n",
    "imputer = SimpleImputer(missing_values=np.nan, strategy='mean')  \n",
    "# apply imputer object on features\n",
    "imputer.fit(X[:, 1:3])\n",
    "# perform replcement for empty values for 2 columns (age and salary)\n",
    "X[:, 1:3] = imputer.transform(X[:, 1:3])\n",
    "\n",
    "print(X)\n"
   ]
  },
  {
   "cell_type": "markdown",
   "metadata": {},
   "source": [
    "## Takecare of missing categorical data\n",
    "\n",
    "In our dataset, Country has categories. For better ML calcualtions, we have to change countries to numbers (e.g Germany=1, Spain=2, France=3). However, future ML models can think that these are priorities, which is incorrect. \n",
    "\n",
    "Hence, encode them differently. (Use of OneHotEncoder)"
   ]
  },
  {
   "cell_type": "code",
   "execution_count": 12,
   "metadata": {},
   "outputs": [],
   "source": [
    "from sklearn.compose import ColumnTransformer\n",
    "from sklearn.preprocessing import OneHotEncoder\n",
    "\n",
    "# create object. [0] means transform only country column (first column)\n",
    "ct = ColumnTransformer(transformers=[('encoder', OneHotEncoder(), [0])], remainder='passthrough')\n",
    "\n",
    "# perform fit and transform\n",
    "X = np.array(ct.fit_transform(X))"
   ]
  },
  {
   "cell_type": "markdown",
   "metadata": {},
   "source": [
    "### Encoding dependent variable\n",
    "\n",
    "Encode purchased column"
   ]
  },
  {
   "cell_type": "code",
   "execution_count": 19,
   "metadata": {},
   "outputs": [],
   "source": [
    "from sklearn.preprocessing import LabelEncoder\n",
    "le = LabelEncoder()\n",
    "\n",
    "y = le.fit_transform(y)\n"
   ]
  }
 ],
 "metadata": {
  "kernelspec": {
   "display_name": "Python 3",
   "language": "python",
   "name": "python3"
  },
  "language_info": {
   "codemirror_mode": {
    "name": "ipython",
    "version": 3
   },
   "file_extension": ".py",
   "mimetype": "text/x-python",
   "name": "python",
   "nbconvert_exporter": "python",
   "pygments_lexer": "ipython3",
   "version": "3.12.0"
  }
 },
 "nbformat": 4,
 "nbformat_minor": 2
}
